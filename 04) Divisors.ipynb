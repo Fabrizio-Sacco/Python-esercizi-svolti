{
 "cells": [
  {
   "cell_type": "markdown",
   "metadata": {},
   "source": [
    "# Divisors "
   ]
  },
  {
   "cell_type": "markdown",
   "metadata": {},
   "source": [
    "Creare un programma che chieda all'utente un numero e poi stampi un elenco di tutti i divisori di quel numero."
   ]
  },
  {
   "cell_type": "code",
   "execution_count": 26,
   "metadata": {},
   "outputs": [
    {
     "name": "stdout",
     "output_type": "stream",
     "text": [
      "Inserisci numero:8\n",
      "[1, 2, 4, 8]\n"
     ]
    }
   ],
   "source": [
    "A = int(input(\"Inserisci numero:\"))\n",
    "\n",
    "lista = list(range(1, A +1))\n",
    "lista_2 = []\n",
    "\n",
    "for number in lista:\n",
    "    if A % number == 0:\n",
    "        lista_2.append(number)\n",
    "\n",
    "print(lista_2)"
   ]
  }
 ],
 "metadata": {
  "kernelspec": {
   "display_name": "Python 3",
   "language": "python",
   "name": "python3"
  },
  "language_info": {
   "codemirror_mode": {
    "name": "ipython",
    "version": 3
   },
   "file_extension": ".py",
   "mimetype": "text/x-python",
   "name": "python",
   "nbconvert_exporter": "python",
   "pygments_lexer": "ipython3",
   "version": "3.8.5"
  }
 },
 "nbformat": 4,
 "nbformat_minor": 4
}
