{
 "cells": [
  {
   "cell_type": "markdown",
   "metadata": {},
   "source": [
    "# String Lists "
   ]
  },
  {
   "cell_type": "markdown",
   "metadata": {},
   "source": [
    "Inserisci in input una stringa e stampa se la stringa è palindroma o meno."
   ]
  },
  {
   "cell_type": "code",
   "execution_count": 1,
   "metadata": {},
   "outputs": [
    {
     "name": "stdout",
     "output_type": "stream",
     "text": [
      "Inserisci qui la stringa: 8448\n",
      "La tua stringa è palindroma!\n"
     ]
    }
   ],
   "source": [
    "A = input(\"Inserisci qui la stringa: \")\n",
    "\n",
    "if A[0:] == A[::-1]:\n",
    "    print(\"La tua stringa è palindroma!\")\n",
    "else:\n",
    "    print(\"La tua stringa non è palindroma!\")"
   ]
  },
  {
   "cell_type": "code",
   "execution_count": 2,
   "metadata": {
    "scrolled": true
   },
   "outputs": [
    {
     "name": "stdout",
     "output_type": "stream",
     "text": [
      "Inserisci qui la stringa: 456\n",
      "La tua stringa non è palindroma!\n"
     ]
    }
   ],
   "source": [
    "B = input(\"Inserisci qui la stringa: \")\n",
    "\n",
    "if B[0:] == B[::-1]:\n",
    "    print(\"La tua stringa è palindroma!\")\n",
    "else:\n",
    "    print(\"La tua stringa non è palindroma!\")\n",
    "    "
   ]
  }
 ],
 "metadata": {
  "kernelspec": {
   "display_name": "Python 3",
   "language": "python",
   "name": "python3"
  },
  "language_info": {
   "codemirror_mode": {
    "name": "ipython",
    "version": 3
   },
   "file_extension": ".py",
   "mimetype": "text/x-python",
   "name": "python",
   "nbconvert_exporter": "python",
   "pygments_lexer": "ipython3",
   "version": "3.8.5"
  }
 },
 "nbformat": 4,
 "nbformat_minor": 4
}
