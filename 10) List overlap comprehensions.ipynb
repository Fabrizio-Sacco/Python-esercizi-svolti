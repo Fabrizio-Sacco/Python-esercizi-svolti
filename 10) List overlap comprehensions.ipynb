{
 "cells": [
  {
   "cell_type": "markdown",
   "metadata": {},
   "source": [
    "# List overlap comprehensions "
   ]
  },
  {
   "cell_type": "markdown",
   "metadata": {},
   "source": [
    "Prendi due elenchi e scrivi un programma che restituisca un elenco che contenga solo gli elementi comuni tra gli elenchi (senza duplicati)."
   ]
  },
  {
   "cell_type": "code",
   "execution_count": 36,
   "metadata": {},
   "outputs": [
    {
     "name": "stdout",
     "output_type": "stream",
     "text": [
      "[11, 12, 17, 22, 23, 24, 25, 26, 27, 29] [5, 6, 7, 8, 9, 14, 16, 19, 21, 22, 24, 26, 27, 28, 30]\n"
     ]
    }
   ],
   "source": [
    "import random\n",
    "\n",
    "A = list(random.sample(range(10, 30), 10))        ### Range: 10 il numero di partenza, 30 il numero di arrivo, 10 il numero\n",
    "B = list(random.sample(range(5, 35), 15))           # dei valori che voglio che si generino automaticamente.\n",
    "C = []\n",
    "A.sort()\n",
    "B.sort()\n",
    "print(A, B)"
   ]
  },
  {
   "cell_type": "code",
   "execution_count": 37,
   "metadata": {},
   "outputs": [
    {
     "data": {
      "text/plain": [
       "[22, 24, 26, 27]"
      ]
     },
     "execution_count": 37,
     "metadata": {},
     "output_type": "execute_result"
    }
   ],
   "source": [
    "for num in A:\n",
    "    if num in B:\n",
    "        C.append(num)\n",
    "C"
   ]
  }
 ],
 "metadata": {
  "kernelspec": {
   "display_name": "Python 3",
   "language": "python",
   "name": "python3"
  },
  "language_info": {
   "codemirror_mode": {
    "name": "ipython",
    "version": 3
   },
   "file_extension": ".py",
   "mimetype": "text/x-python",
   "name": "python",
   "nbconvert_exporter": "python",
   "pygments_lexer": "ipython3",
   "version": "3.8.5"
  }
 },
 "nbformat": 4,
 "nbformat_minor": 4
}
