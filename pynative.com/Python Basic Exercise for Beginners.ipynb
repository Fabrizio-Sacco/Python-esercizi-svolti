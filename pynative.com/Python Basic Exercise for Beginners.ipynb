{
 "cells": [
  {
   "cell_type": "markdown",
   "metadata": {},
   "source": [
    "https://pynative.com/python-basic-exercise-for-beginners/"
   ]
  },
  {
   "cell_type": "markdown",
   "metadata": {},
   "source": [
    "## Exercise 1: Calculate the multiplication and sum of two numbers\n",
    "Given two integer numbers return their product only if the product is greater than 1000, else return their sum."
   ]
  },
  {
   "cell_type": "code",
   "execution_count": 9,
   "metadata": {},
   "outputs": [
    {
     "name": "stdout",
     "output_type": "stream",
     "text": [
      "15\n"
     ]
    }
   ],
   "source": [
    "number_1 = 5\n",
    "number_2 = 10\n",
    "the_product = number_1 * number_2 \n",
    "the_sum = number_1 + number_2 \n",
    "\n",
    "if the_product >= 1000:\n",
    "    print(the_product)\n",
    "else:\n",
    "    print(the_sum)"
   ]
  },
  {
   "cell_type": "markdown",
   "metadata": {},
   "source": [
    "## Exercise 2: Print the sum of the current number and the previous number\n",
    "Write a program to iterate the first 10 numbers and in each iteration, print the sum of the current and previous number."
   ]
  },
  {
   "cell_type": "code",
   "execution_count": 33,
   "metadata": {},
   "outputs": [
    {
     "name": "stdout",
     "output_type": "stream",
     "text": [
      "The Current number is 1 The Previous Number 0 The Sum 1\n",
      "The Current number is 2 The Previous Number 1 The Sum 3\n",
      "The Current number is 3 The Previous Number 2 The Sum 5\n",
      "The Current number is 4 The Previous Number 3 The Sum 7\n",
      "The Current number is 5 The Previous Number 4 The Sum 9\n",
      "The Current number is 6 The Previous Number 5 The Sum 11\n",
      "The Current number is 7 The Previous Number 6 The Sum 13\n",
      "The Current number is 8 The Previous Number 7 The Sum 15\n",
      "The Current number is 9 The Previous Number 8 The Sum 17\n",
      "The Current number is 10 The Previous Number 9 The Sum 19\n"
     ]
    }
   ],
   "source": [
    "numbers = 0\n",
    "\n",
    "for num in range(1, 11):                                                                          \n",
    "    num_sum = numbers + 1\n",
    "    print(\"The Current number is\", num, \"The Previous Number\", numbers, \"The Sum\", numbers + num)\n",
    "    numbers = num"
   ]
  },
  {
   "cell_type": "markdown",
   "metadata": {},
   "source": [
    "## Exercise 3: Print characters from a string that are present at an even index number\n",
    "Write a program to accept a string from the user and display characters that are present at an even index number."
   ]
  },
  {
   "cell_type": "code",
   "execution_count": 34,
   "metadata": {},
   "outputs": [
    {
     "name": "stdout",
     "output_type": "stream",
     "text": [
      "The index is[ 0 ] D\n",
      "The index is[ 2 ] R\n",
      "The index is[ 4 ] S\n",
      "The index is[ 6 ] D\n"
     ]
    }
   ],
   "source": [
    "def the_string(word):                              ### Create a function\n",
    "    size = len(word)                               ### Generate a variable containing the lenght of the input\n",
    "    for x in range(0, size, 2):                    ### Set a 'for loop' with range() function\n",
    "        print(\"The index is[\", x, \"]\", word[x])    ### Print the index, plus the desired character\n",
    "        \n",
    "the_string(\"DPRTSLD\")"
   ]
  },
  {
   "cell_type": "markdown",
   "metadata": {},
   "source": [
    "## Exercise 4: Remove first n characters from a string\n",
    "Write a program to remove characters from a string starting from zero up to n and return a new string."
   ]
  },
  {
   "cell_type": "code",
   "execution_count": 7,
   "metadata": {},
   "outputs": [],
   "source": [
    "def remove(word, number):                          ### Create the function\n",
    "    print(\"The original word is: \", word)\n",
    "    new_word = word[number:]                       ### Create the new list, exlcuding the desired characters\n",
    "    print(\"The new word is: \", new_word)"
   ]
  },
  {
   "cell_type": "code",
   "execution_count": 9,
   "metadata": {},
   "outputs": [
    {
     "name": "stdout",
     "output_type": "stream",
     "text": [
      "The original word is:  123456789\n",
      "The new word is:  6789\n"
     ]
    }
   ],
   "source": [
    "remove(\"123456789\", 5)"
   ]
  },
  {
   "cell_type": "markdown",
   "metadata": {},
   "source": [
    "## Exercise 5: Check if the first and last number of a list is the same\n",
    "Write a function to return True if the first and last number of a given list is same. If numbers are different then return False."
   ]
  },
  {
   "cell_type": "code",
   "execution_count": 14,
   "metadata": {},
   "outputs": [
    {
     "name": "stdout",
     "output_type": "stream",
     "text": [
      "The X list is: True\n",
      "The Y list is: False\n"
     ]
    }
   ],
   "source": [
    "X = [10, 20, 30, 40, 10]                           ### Create the lists\n",
    "Y = [75, 65, 35, 75, 30]\n",
    "\n",
    "if X[0] == X[-1]:                                  ### Set the first condition for X\n",
    "    print(\"The X list is:\", True)\n",
    "else:                                              ### Set the second condition for X\n",
    "    print(\"The X list is:\", False)\n",
    "    \n",
    "if Y[0] == Y[-1]:                                  ### Set the first condition for Y\n",
    "    print(\"The X list is:\", True)\n",
    "else:                                              ### Set the second condition for Y\n",
    "    print(\"The Y list is:\", False)"
   ]
  },
  {
   "cell_type": "markdown",
   "metadata": {},
   "source": [
    "## Exercise 6: Display numbers divisible by 5 from a list\n",
    "Iterate the given list of numbers and print only those numbers which are divisible by 5"
   ]
  },
  {
   "cell_type": "code",
   "execution_count": 20,
   "metadata": {},
   "outputs": [
    {
     "name": "stdout",
     "output_type": "stream",
     "text": [
      "The numbers divisible by 5 are 10\n",
      "The numbers divisible by 5 are 20\n",
      "The numbers divisible by 5 are 55\n"
     ]
    }
   ],
   "source": [
    "numbers = [10, 20, 33, 46, 55]\n",
    "for num in numbers:\n",
    "    if num % 5 == 0:\n",
    "        print(\"The numbers divisible by 5 are\", num)"
   ]
  },
  {
   "cell_type": "markdown",
   "metadata": {},
   "source": [
    "## Exercise 7: Return the count of a given substring from a string\n",
    "Write a program to find how many times substring “Emma” appears in the given string."
   ]
  },
  {
   "cell_type": "code",
   "execution_count": 24,
   "metadata": {},
   "outputs": [
    {
     "name": "stdout",
     "output_type": "stream",
     "text": [
      "The word Emma appears 2 times\n"
     ]
    }
   ],
   "source": [
    "X = \"Emma is good developer. Emma is a writer\"\n",
    "the_count = X.count(\"Emma\")\n",
    "print(\"The word Emma appears\", the_count, \"times\")"
   ]
  },
  {
   "cell_type": "markdown",
   "metadata": {},
   "source": [
    "## Exercise 8: Print the following pattern"
   ]
  },
  {
   "cell_type": "code",
   "execution_count": null,
   "metadata": {},
   "outputs": [],
   "source": [
    "1 \n",
    "2 2 \n",
    "3 3 3 \n",
    "4 4 4 4 \n",
    "5 5 5 5 5"
   ]
  },
  {
   "cell_type": "markdown",
   "metadata": {},
   "source": [
    "### First method"
   ]
  },
  {
   "cell_type": "code",
   "execution_count": 28,
   "metadata": {},
   "outputs": [
    {
     "name": "stdout",
     "output_type": "stream",
     "text": [
      "[1]\n",
      "[1, 2]\n",
      "[1, 2, 3]\n",
      "[1, 2, 3, 4]\n",
      "[1, 2, 3, 4, 5]\n"
     ]
    }
   ],
   "source": [
    "empty = []\n",
    "for x in range(1, 6):\n",
    "    empty.append(x)\n",
    "    print(empty)"
   ]
  },
  {
   "cell_type": "markdown",
   "metadata": {},
   "source": [
    "### Second method"
   ]
  },
  {
   "cell_type": "code",
   "execution_count": 21,
   "metadata": {},
   "outputs": [
    {
     "name": "stdout",
     "output_type": "stream",
     "text": [
      "\n",
      "\n",
      "1 \n",
      "\n",
      "2 2 \n",
      "\n",
      "3 3 3 \n",
      "\n",
      "4 4 4 4 \n",
      "\n",
      "5 5 5 5 5 \n",
      "\n"
     ]
    }
   ],
   "source": [
    "for num in range(6):\n",
    "    for x in range(num):\n",
    "        print (num, end=\" \") \n",
    "    print(\"\\n\")"
   ]
  },
  {
   "cell_type": "markdown",
   "metadata": {},
   "source": [
    "## Exercise 9: Check Palindrome Number\n",
    "Write a program to check if the given number is a palindrome number."
   ]
  },
  {
   "cell_type": "markdown",
   "metadata": {},
   "source": [
    "### First method"
   ]
  },
  {
   "cell_type": "code",
   "execution_count": 41,
   "metadata": {},
   "outputs": [
    {
     "name": "stdout",
     "output_type": "stream",
     "text": [
      "Insert the number here: 456\n",
      "The number 456 is not palindrome!\n"
     ]
    }
   ],
   "source": [
    "numbers = input(\"Insert the number here: \")                 ### Create input\n",
    "numbers_reversed = list(numbers)                            ### Convert the string into a list\n",
    "numbers_reversed.reverse()                                  ### Reverse the list\n",
    "numbers_reversed_join = \"\".join(numbers_reversed)           ### Join the list's elements\n",
    "if numbers == numbers_reversed_join:                        ### Set the conditions\n",
    "    print(\"The number\", numbers, \"is palindrome!\")\n",
    "else:\n",
    "    print(\"The number\", numbers, \"is not palindrome!\")"
   ]
  },
  {
   "cell_type": "markdown",
   "metadata": {},
   "source": [
    "### Second method"
   ]
  },
  {
   "cell_type": "code",
   "execution_count": 42,
   "metadata": {
    "scrolled": true
   },
   "outputs": [
    {
     "name": "stdout",
     "output_type": "stream",
     "text": [
      "Insert the number here: 454\n",
      "The number 454 is palindrome!\n"
     ]
    }
   ],
   "source": [
    "numbers = input(\"Insert the number here: \")                 ### Create input\n",
    "if numbers == numbers[::-1]:                                ### Set the conditions\n",
    "    print(\"The number\", numbers, \"is palindrome!\")\n",
    "else:\n",
    "    print(\"The number\", numbers, \"is not palindrome!\")"
   ]
  },
  {
   "cell_type": "markdown",
   "metadata": {},
   "source": [
    "# Exercise 10: Create a new list from a two list using the following condition\n"
   ]
  },
  {
   "cell_type": "markdown",
   "metadata": {},
   "source": [
    "Create a new list from a two list using the following condition\n",
    "\n",
    "Given a two list of numbers, write a program to create a new list such that the new list should contain odd numbers from the first list and even numbers from the second list."
   ]
  },
  {
   "cell_type": "code",
   "execution_count": 12,
   "metadata": {},
   "outputs": [],
   "source": [
    "list_odd = [10, 20, 25, 30, 35]\n",
    "list_even = [40, 45, 60, 75, 90]\n",
    "list_3 = [] "
   ]
  },
  {
   "cell_type": "code",
   "execution_count": 13,
   "metadata": {},
   "outputs": [],
   "source": [
    "for num in list_odd:\n",
    "    if num % 2 != 0:\n",
    "        list_3.append(num)"
   ]
  },
  {
   "cell_type": "code",
   "execution_count": 14,
   "metadata": {},
   "outputs": [
    {
     "data": {
      "text/plain": [
       "[25, 35]"
      ]
     },
     "execution_count": 14,
     "metadata": {},
     "output_type": "execute_result"
    }
   ],
   "source": [
    "list_3"
   ]
  },
  {
   "cell_type": "code",
   "execution_count": 15,
   "metadata": {},
   "outputs": [],
   "source": [
    "for num in list_even:\n",
    "    if num % 2 == 0:\n",
    "        list_3.append(num)"
   ]
  },
  {
   "cell_type": "code",
   "execution_count": 16,
   "metadata": {},
   "outputs": [
    {
     "data": {
      "text/plain": [
       "[25, 35, 40, 60, 90]"
      ]
     },
     "execution_count": 16,
     "metadata": {},
     "output_type": "execute_result"
    }
   ],
   "source": [
    "list_3"
   ]
  },
  {
   "cell_type": "markdown",
   "metadata": {},
   "source": [
    "# Exercise 11: Write a Program to extract each digit from an integer in the reverse order.\n"
   ]
  },
  {
   "cell_type": "markdown",
   "metadata": {},
   "source": [
    "For example, If the given int is 7536, the output shall be “6 3 5 7“, with a space separating the digits.\n",
    "\n"
   ]
  },
  {
   "cell_type": "code",
   "execution_count": 19,
   "metadata": {},
   "outputs": [
    {
     "name": "stdout",
     "output_type": "stream",
     "text": [
      "Insert here the numbers: 456\n",
      "6 5 4\n"
     ]
    }
   ],
   "source": [
    "numbers = input(\"Insert here the numbers: \")\n",
    "numbers_list = list(numbers)\n",
    "numbers_list.reverse()\n",
    "print(\" \".join(numbers_list))"
   ]
  },
  {
   "cell_type": "markdown",
   "metadata": {},
   "source": [
    "# Exercise 12: Calculate income tax for the given income by adhering to the below rules"
   ]
  },
  {
   "cell_type": "markdown",
   "metadata": {},
   "source": [
    "For example, suppose the taxable income is 45000 the income tax payable is\n",
    "\n",
    "10000 * 0% + 10000 * 10%  + 25000 * 20% = $6000."
   ]
  },
  {
   "cell_type": "code",
   "execution_count": 8,
   "metadata": {},
   "outputs": [],
   "source": [
    "taxable_income = 15000"
   ]
  },
  {
   "cell_type": "code",
   "execution_count": 10,
   "metadata": {},
   "outputs": [
    {
     "name": "stdout",
     "output_type": "stream",
     "text": [
      "The income tax payable is 1500\n"
     ]
    }
   ],
   "source": [
    "if taxable_income < 10000:\n",
    "    print(\"The income tax payable is 0\")\n",
    "if taxable_income >= 10000 and taxable_income < 25000:\n",
    "    income_tax_payable_10 = taxable_income * 10 // 100\n",
    "    print(\"The income tax payable is\", income_tax_payable_10)\n",
    "if taxable_income > 25000:\n",
    "    income_tax_payable_10 = taxable_income * 10 // 100\n",
    "    income_tax_payable_20 = taxable_income * 20 // 100\n",
    "    result = income_tax_payable_10 + income_tax_payable_20\n",
    "    print(\"The income tax payable is\", result)"
   ]
  },
  {
   "cell_type": "markdown",
   "metadata": {},
   "source": [
    "# Exercise 13: Print multiplication table form 1 to 10\n"
   ]
  },
  {
   "cell_type": "markdown",
   "metadata": {},
   "source": [
    "### Expected output:"
   ]
  },
  {
   "cell_type": "code",
   "execution_count": null,
   "metadata": {},
   "outputs": [],
   "source": [
    "1  2 3 4 5 6 7 8 9 10 \t\t\n",
    "2  4 6 8 10 12 14 16 18 20 \t\t\n",
    "3  6 9 12 15 18 21 24 27 30 \t\t\n",
    "4  8 12 16 20 24 28 32 36 40 \t\t\n",
    "5  10 15 20 25 30 35 40 45 50 \t\t\n",
    "6  12 18 24 30 36 42 48 54 60 \t\t\n",
    "7  14 21 28 35 42 49 56 63 70 \t\t\n",
    "8  16 24 32 40 48 56 64 72 80 \t\t\n",
    "9  18 27 36 45 54 63 72 81 90 \t\t\n",
    "10 20 30 40 50 60 70 80 90 100 "
   ]
  },
  {
   "cell_type": "code",
   "execution_count": 22,
   "metadata": {},
   "outputs": [
    {
     "name": "stdout",
     "output_type": "stream",
     "text": [
      "1 2 3 4 5 6 7 8 9 10 \t\t\n",
      "2 4 6 8 10 12 14 16 18 20 \t\t\n",
      "3 6 9 12 15 18 21 24 27 30 \t\t\n",
      "4 8 12 16 20 24 28 32 36 40 \t\t\n",
      "5 10 15 20 25 30 35 40 45 50 \t\t\n",
      "6 12 18 24 30 36 42 48 54 60 \t\t\n",
      "7 14 21 28 35 42 49 56 63 70 \t\t\n",
      "8 16 24 32 40 48 56 64 72 80 \t\t\n",
      "9 18 27 36 45 54 63 72 81 90 \t\t\n",
      "10 20 30 40 50 60 70 80 90 100 \t\t\n"
     ]
    }
   ],
   "source": [
    "for num in range(1, 11):\n",
    "    for x in range(1, 11):\n",
    "        print(num * x, end = \" \")\n",
    "    print(\"\\t\\t\")"
   ]
  },
  {
   "cell_type": "markdown",
   "metadata": {},
   "source": [
    "# Exercise 14: Print downward Half-Pyramid Pattern with Star (asterisk)"
   ]
  },
  {
   "cell_type": "code",
   "execution_count": null,
   "metadata": {},
   "outputs": [],
   "source": [
    "* * * * *  \n",
    "* * * *  \n",
    "* * *  \n",
    "* *  \n",
    "*"
   ]
  },
  {
   "cell_type": "code",
   "execution_count": 26,
   "metadata": {},
   "outputs": [
    {
     "name": "stdout",
     "output_type": "stream",
     "text": [
      "* * * * *  \n",
      "* * * *  \n",
      "* * *  \n",
      "* *  \n",
      "*  \n",
      " \n"
     ]
    }
   ],
   "source": [
    "for x in range(6, 0, -1):\n",
    "    for y in range(0, x - 1):\n",
    "        print(\"*\", end=' ')\n",
    "    print(\" \")"
   ]
  },
  {
   "cell_type": "markdown",
   "metadata": {},
   "source": [
    "# Exercise 15: Write a function called exponent(base, exp) that returns an int value of base raises to the power of exp.\n"
   ]
  },
  {
   "cell_type": "markdown",
   "metadata": {},
   "source": [
    "Note here exp is a non-negative integer, and the base is an integer.\n",
    "\n"
   ]
  },
  {
   "cell_type": "code",
   "execution_count": 38,
   "metadata": {},
   "outputs": [],
   "source": [
    "def exponent(base, exp):\n",
    "    for x in range(exp + 1):\n",
    "        result = base ** x\n",
    "    return result"
   ]
  },
  {
   "cell_type": "code",
   "execution_count": 40,
   "metadata": {},
   "outputs": [
    {
     "data": {
      "text/plain": [
       "625"
      ]
     },
     "execution_count": 40,
     "metadata": {},
     "output_type": "execute_result"
    }
   ],
   "source": [
    "exponent(5,4)"
   ]
  }
 ],
 "metadata": {
  "kernelspec": {
   "display_name": "Python 3",
   "language": "python",
   "name": "python3"
  },
  "language_info": {
   "codemirror_mode": {
    "name": "ipython",
    "version": 3
   },
   "file_extension": ".py",
   "mimetype": "text/x-python",
   "name": "python",
   "nbconvert_exporter": "python",
   "pygments_lexer": "ipython3",
   "version": "3.8.5"
  }
 },
 "nbformat": 4,
 "nbformat_minor": 4
}
