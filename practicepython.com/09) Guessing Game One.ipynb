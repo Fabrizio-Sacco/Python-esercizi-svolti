{
 "cells": [
  {
   "cell_type": "markdown",
   "metadata": {},
   "source": [
    "# Guessing Game One "
   ]
  },
  {
   "cell_type": "markdown",
   "metadata": {},
   "source": [
    "Genera un numero casuale compreso tra 1 e 9 (inclusi 1 e 9). Chiedi all'utente di indovinare il numero, quindi digli se ha ragione o meno."
   ]
  },
  {
   "cell_type": "code",
   "execution_count": 3,
   "metadata": {
    "scrolled": true
   },
   "outputs": [
    {
     "name": "stdout",
     "output_type": "stream",
     "text": [
      "Inserisci qui il numero: 5\n",
      "Ritenta!\n",
      "[6]\n"
     ]
    }
   ],
   "source": [
    "import random\n",
    "\n",
    "A = range(1,10)\n",
    "B = random.sample(A, 1)\n",
    "D = int(input(\"Inserisci qui il numero: \"))\n",
    "\n",
    "if D == B:\n",
    "    print(\"Hai indovinato!\")\n",
    "else:\n",
    "    print(\"Ritenta!\")\n",
    "    print(B)"
   ]
  }
 ],
 "metadata": {
  "kernelspec": {
   "display_name": "Python 3",
   "language": "python",
   "name": "python3"
  },
  "language_info": {
   "codemirror_mode": {
    "name": "ipython",
    "version": 3
   },
   "file_extension": ".py",
   "mimetype": "text/x-python",
   "name": "python",
   "nbconvert_exporter": "python",
   "pygments_lexer": "ipython3",
   "version": "3.8.5"
  }
 },
 "nbformat": 4,
 "nbformat_minor": 4
}
